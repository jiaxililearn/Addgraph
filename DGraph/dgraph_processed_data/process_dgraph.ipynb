{
 "cells": [
  {
   "cell_type": "code",
   "execution_count": 36,
   "metadata": {},
   "outputs": [],
   "source": [
    "import numpy as np\n",
    "import scipy.sparse as ssp\n",
    "from tqdm import tqdm"
   ]
  },
  {
   "cell_type": "code",
   "execution_count": 37,
   "metadata": {},
   "outputs": [
    {
     "name": "stdout",
     "output_type": "stream",
     "text": [
      "\n",
      "X shape: (3700550, 17),\n",
      "y shape: (3700550,)\n",
      "\n",
      "edge_index shape: (4300999, 2)\n",
      "edge_type shape: (4300999,)\n",
      "edge_timestamp shape: (4300999,)\n",
      "\n",
      "train_mask shape: (857899,)\n",
      "valid_mask shape: (183862,)\n",
      "test_mask shape: (183840,)\n",
      "\n"
     ]
    }
   ],
   "source": [
    "data_path = \"/Users/jl102430/Documents/study/anomaly_detection/data/dynamic/DGraph/DGraphFin/dgraphfin.npz\"\n",
    "\n",
    "output_prefix = \"../dataset/dgl_format_1\"\n",
    "# %%\n",
    "data = np.load(data_path)\n",
    "data\n",
    "\n",
    "# %%\n",
    "X = data[\"x\"]\n",
    "y = data[\"y\"]\n",
    "\n",
    "edge_index = data[\"edge_index\"]\n",
    "edge_type = data[\"edge_type\"]\n",
    "edge_timestamp = data[\"edge_timestamp\"]\n",
    "\n",
    "train_mask = data[\"train_mask\"]\n",
    "valid_mask = data[\"valid_mask\"]\n",
    "test_mask = data[\"test_mask\"]\n",
    "\n",
    "\n",
    "print(\n",
    "    f\"\"\"\n",
    "X shape: {X.shape},\n",
    "y shape: {y.shape}\n",
    "\n",
    "edge_index shape: {edge_index.shape}\n",
    "edge_type shape: {edge_type.shape}\n",
    "edge_timestamp shape: {edge_timestamp.shape}\n",
    "\n",
    "train_mask shape: {train_mask.shape}\n",
    "valid_mask shape: {valid_mask.shape}\n",
    "test_mask shape: {test_mask.shape}\n",
    "\"\"\"\n",
    ")\n"
   ]
  },
  {
   "cell_type": "code",
   "execution_count": 42,
   "metadata": {},
   "outputs": [],
   "source": [
    "def reindex_graph_dataset(\n",
    "    edge_index, node_feature, node_label, edge_type, edge_timestamp, mask, name\n",
    "):\n",
    "    masked_edge_index = edge_index[mask]\n",
    "    masked_edge_type = edge_type[mask]\n",
    "    masked_edge_timestamp = edge_timestamp[mask] - 1\n",
    "\n",
    "    sorted_index = np.argsort(masked_edge_timestamp)\n",
    "    masked_edge_index = masked_edge_index[sorted_index]\n",
    "    masked_edge_type = masked_edge_type[sorted_index]\n",
    "    masked_edge_timestamp = masked_edge_timestamp[sorted_index]\n",
    "\n",
    "    node_list = np.unique(masked_edge_index.flatten())\n",
    "\n",
    "    reindex_edge_index = np.empty_like(masked_edge_index)\n",
    "    node2id = {n: i for i, n in enumerate(node_list)}\n",
    "\n",
    "    reindex_edge_index[:, 0] = np.array(\n",
    "        list(map(lambda x: node2id[x], masked_edge_index[:, 0]))\n",
    "    )\n",
    "    reindex_edge_index[:, 1] = np.array(\n",
    "        list(map(lambda x: node2id[x], masked_edge_index[:, 1]))\n",
    "    )\n",
    "\n",
    "    masked_node_feature = node_feature[node_list]\n",
    "    masked_node_label = node_label[node_list]\n",
    "\n",
    "    net = []\n",
    "    for ts in tqdm(np.unique(masked_edge_timestamp)):\n",
    "        ts_mask = masked_edge_timestamp == ts\n",
    "        net_edge_index = reindex_edge_index[ts_mask]\n",
    "        net_edge_type = masked_edge_type[ts_mask]\n",
    "\n",
    "        _net = ssp.csc_matrix(\n",
    "            (\n",
    "                np.ones(net_edge_index.shape[0]),\n",
    "                (net_edge_index[:, 0], net_edge_index[:, 1]),\n",
    "            ),\n",
    "            shape=(masked_node_feature.shape[0], masked_node_feature.shape[0]),\n",
    "        )\n",
    "        net.append(_net)\n",
    "    net = np.array(net)\n",
    "\n",
    "    print(\n",
    "        f\"\"\"\n",
    "          reindex_edge_index: {reindex_edge_index.shape}\n",
    "          masked_edge_type: {masked_edge_type.shape}\n",
    "          masked_edge_timestamp: {masked_edge_timestamp.shape}\n",
    "          unique nodes: {np.unique(reindex_edge_index.flatten()).shape}\n",
    "          masked_node_feature: {masked_node_feature.shape}\n",
    "          masked_node_label: {masked_node_label.shape}\n",
    "          net: {net.shape}\n",
    "          \"\"\"\n",
    "    )\n",
    "\n",
    "    num_nodes = masked_node_feature.shape[0]\n",
    "    num_edges = reindex_edge_index.shape[0]\n",
    "    with open(f\"dgrah_processed_{name}_data.txt\", \"w\") as f:\n",
    "        f.write(\"% asym positive\\n\")\n",
    "        f.write(f\"% {num_edges} {num_nodes} {num_nodes}\\n\")\n",
    "        for (src, dst), ts in tqdm(zip(reindex_edge_index, masked_edge_timestamp)):\n",
    "            f.write(f\"{src} {dst} 1 {ts}\\n\")\n",
    "\n",
    "    return (\n",
    "        reindex_edge_index,\n",
    "        masked_node_feature,\n",
    "        masked_node_label,\n",
    "        masked_edge_type,\n",
    "        masked_edge_timestamp,\n",
    "        net,\n",
    "        node2id,\n",
    "    )"
   ]
  },
  {
   "cell_type": "code",
   "execution_count": 43,
   "metadata": {},
   "outputs": [
    {
     "name": "stderr",
     "output_type": "stream",
     "text": [
      "100%|██████████| 821/821 [00:16<00:00, 48.95it/s]\n"
     ]
    },
    {
     "name": "stdout",
     "output_type": "stream",
     "text": [
      "\n",
      "          reindex_edge_index: (857899, 2)\n",
      "          masked_edge_type: (857899,)\n",
      "          masked_edge_timestamp: (857899,)\n",
      "          unique nodes: (1367190,)\n",
      "          masked_node_feature: (1367190, 17)\n",
      "          masked_node_label: (1367190,)\n",
      "          net: (821,)\n",
      "          \n"
     ]
    },
    {
     "name": "stderr",
     "output_type": "stream",
     "text": [
      "857899it [00:03, 230401.49it/s]\n"
     ]
    }
   ],
   "source": [
    "(\n",
    "    train_edge_index, \n",
    "    train_node_feature,\n",
    "    train_node_label,\n",
    "    train_edge_type,\n",
    "    train_edge_timestamp,\n",
    "    train_net,\n",
    "    train_node2id,\n",
    ") = reindex_graph_dataset(\n",
    "    edge_index, X, y, edge_type, edge_timestamp, train_mask, \"train\"\n",
    ")"
   ]
  },
  {
   "cell_type": "code",
   "execution_count": 44,
   "metadata": {},
   "outputs": [
    {
     "name": "stderr",
     "output_type": "stream",
     "text": [
      "100%|██████████| 821/821 [00:03<00:00, 251.90it/s]\n"
     ]
    },
    {
     "name": "stdout",
     "output_type": "stream",
     "text": [
      "\n",
      "          reindex_edge_index: (183862, 2)\n",
      "          masked_edge_type: (183862,)\n",
      "          masked_edge_timestamp: (183862,)\n",
      "          unique nodes: (348259,)\n",
      "          masked_node_feature: (348259, 17)\n",
      "          masked_node_label: (348259,)\n",
      "          net: (821,)\n",
      "          \n"
     ]
    },
    {
     "name": "stderr",
     "output_type": "stream",
     "text": [
      "183862it [00:00, 241241.29it/s]\n"
     ]
    }
   ],
   "source": [
    "(\n",
    "    valid_edge_index, \n",
    "    valid_node_feature,\n",
    "    valid_node_label,\n",
    "    valid_edge_type,\n",
    "    valid_edge_timestamp,\n",
    "    valid_net,\n",
    "    valid_node2id,\n",
    ") = reindex_graph_dataset(\n",
    "    edge_index, X, y, edge_type, edge_timestamp, valid_mask, \"valid\"\n",
    ")"
   ]
  },
  {
   "cell_type": "code",
   "execution_count": null,
   "metadata": {},
   "outputs": [],
   "source": []
  }
 ],
 "metadata": {
  "kernelspec": {
   "display_name": "pytorch",
   "language": "python",
   "name": "python3"
  },
  "language_info": {
   "codemirror_mode": {
    "name": "ipython",
    "version": 3
   },
   "file_extension": ".py",
   "mimetype": "text/x-python",
   "name": "python",
   "nbconvert_exporter": "python",
   "pygments_lexer": "ipython3",
   "version": "3.7.10"
  },
  "orig_nbformat": 4
 },
 "nbformat": 4,
 "nbformat_minor": 2
}
